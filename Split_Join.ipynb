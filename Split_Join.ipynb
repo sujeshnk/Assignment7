{
  "nbformat": 4,
  "nbformat_minor": 0,
  "metadata": {
    "colab": {
      "name": "Split_Join.ipynb",
      "provenance": []
    },
    "kernelspec": {
      "name": "python3",
      "display_name": "Python 3"
    },
    "language_info": {
      "name": "python"
    }
  },
  "cells": [
    {
      "cell_type": "code",
      "metadata": {
        "colab": {
          "base_uri": "https://localhost:8080/"
        },
        "id": "Aq9iLfeWo4OB",
        "outputId": "1469bceb-dcf9-436f-ac6d-2835495cc87c"
      },
      "source": [
        "#Split operation\n",
        "word = \"Hello World\".split()\n",
        "print (word)\n"
      ],
      "execution_count": 1,
      "outputs": [
        {
          "output_type": "stream",
          "text": [
            "['Hello', 'World']\n"
          ],
          "name": "stdout"
        }
      ]
    },
    {
      "cell_type": "code",
      "metadata": {
        "colab": {
          "base_uri": "https://localhost:8080/"
        },
        "id": "fiuJtjpN0BQB",
        "outputId": "bb394e95-0b14-41e8-fdf1-619a8d92ab67"
      },
      "source": [
        "#Join function\n",
        "word = [\"Hello\" \"World\" \"2021\"]\n",
        "\"\".join(word)\n",
        "print (word)\n"
      ],
      "execution_count": 4,
      "outputs": [
        {
          "output_type": "stream",
          "text": [
            "['HelloWorld2021']\n"
          ],
          "name": "stdout"
        }
      ]
    }
  ]
}